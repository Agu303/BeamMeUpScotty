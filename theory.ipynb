{
 "cells": [
  {
   "cell_type": "markdown",
   "metadata": {},
   "source": [
    "# BeamMeUpScotty:  Solver Strategy Notes"
   ]
  },
  {
   "cell_type": "markdown",
   "metadata": {},
   "source": [
    "## BMUS Goals\n",
    "To develop a 2D structural analysis tool capable of modeling, solving, and visualizing trusses (axial/2DOF/x,y) and beams (bending/2DOF/y,θ)\n",
    "\n",
    "Main focus on:\n",
    "- Accuracy: Validated and optimized with analytical methods whenver possible.  Numerical methods will be tested against well-known analytical methods (Euler-Bernoulli Method, Stiffness Method, Castiglian Method, etc.) where applicable.\n",
    "$$\n",
    "\\text{Error} = \\left| \\frac{\\text{Numerical estimation} - \\text{Analytical value}}{\\text{Analytical value}} \\right|\n",
    "$$\n",
    "\n",
    "- Scalability: For future projects that involve more complex geometry, nonlinear loading, non-constant material properties, and other hard to model boundary conditions. \n",
    "\n",
    "- Computation: Time (Runtime), Space (Memory usage) Complexity, # Iterations\n",
    "\n",
    "- Maintainable Script: Comments for readability & Modularity for debugging."
   ]
  },
  {
   "cell_type": "markdown",
   "metadata": {},
   "source": [
    "### What are analytical methods in structural mechanics?\n",
    "~ Analytical methods like Euler-Bernoulli beam theory and Castigliano's theorems use closed-form mathematical equations derived from differential equations or energy methods. These are great for quick, accurate results in **simple** systems (e.g., statically determinate, single-span, uniform loading, idealized, linear behavior during elastic deformation)."
   ]
  },
  {
   "cell_type": "markdown",
   "metadata": {},
   "source": [
    "### Numerical Method Utilization\n",
    "1.  Finite Difference Method (Approximating Second-Order Euler-Bernoulli)\n",
    "2.  Numerical Integration for non-uniform loading or varying cross-sections(Simpson's Rule, Trapezoidal Rule)\n",
    "3.  Matrix-Based Methods (Stiffness)"
   ]
  }
 ],
 "metadata": {
  "language_info": {
   "name": "python"
  }
 },
 "nbformat": 4,
 "nbformat_minor": 2
}
